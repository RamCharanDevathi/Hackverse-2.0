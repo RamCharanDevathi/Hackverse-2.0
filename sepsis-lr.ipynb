{
  "nbformat": 4,
  "nbformat_minor": 0,
  "metadata": {
    "colab": {
      "name": "Sepsis.ipynb",
      "provenance": [],
      "collapsed_sections": []
    },
    "kernelspec": {
      "name": "python3",
      "display_name": "Python 3"
    }
  },
  "cells": [
    {
      "cell_type": "code",
      "metadata": {
        "id": "BF_BUWJc_paK"
      },
      "source": [
        "import pandas as pd\r\n",
        "import numpy as np\r\n",
        "import matplotlib.pyplot as plt\r\n",
        "from sklearn.preprocessing import LabelEncoder\r\n",
        "from sklearn.model_selection import train_test_split\r\n",
        "from sklearn.neural_network import MLPClassifier"
      ],
      "execution_count": null,
      "outputs": []
    },
    {
      "cell_type": "markdown",
      "metadata": {
        "id": "qp3tACjuUNkC"
      },
      "source": [
        "**Data Preprocessing**"
      ]
    },
    {
      "cell_type": "code",
      "metadata": {
        "id": "PKUN0KgS_0mQ"
      },
      "source": [
        "data=pd.read_csv(\"https://raw.githubusercontent.com/RamCharanDevathi/Hackverse-2.0/main/sepsis.csv\",error_bad_lines=False)"
      ],
      "execution_count": null,
      "outputs": []
    },
    {
      "cell_type": "code",
      "metadata": {
        "id": "0NpNBgoyBR7-"
      },
      "source": [
        "from sklearn.utils import resample\r\n",
        "df_major=data[data.SepsisLabel==0]\r\n",
        "df_minor=data[data.SepsisLabel==1]"
      ],
      "execution_count": null,
      "outputs": []
    },
    {
      "cell_type": "code",
      "metadata": {
        "id": "zSr-enZMBSKp"
      },
      "source": [
        "df_minor_upsample=resample(\r\n",
        "df_minor,\r\n",
        "replace=True,\r\n",
        "n_samples=37945,\r\n",
        "random_state=123)"
      ],
      "execution_count": null,
      "outputs": []
    },
    {
      "cell_type": "code",
      "metadata": {
        "colab": {
          "base_uri": "https://localhost:8080/"
        },
        "id": "fXQsLDvfBSNC",
        "outputId": "2e1952dc-c417-4a09-d4e9-0a73feca8f2e"
      },
      "source": [
        "df_upsampled=pd.concat([df_major,df_minor_upsample])\r\n",
        "df_upsampled.SepsisLabel.value_counts()"
      ],
      "execution_count": null,
      "outputs": [
        {
          "output_type": "execute_result",
          "data": {
            "text/plain": [
              "1    37945\n",
              "0    37945\n",
              "Name: SepsisLabel, dtype: int64"
            ]
          },
          "metadata": {
            "tags": []
          },
          "execution_count": 21
        }
      ]
    },
    {
      "cell_type": "code",
      "metadata": {
        "colab": {
          "base_uri": "https://localhost:8080/",
          "height": 248
        },
        "id": "NgGA5eKhBSQV",
        "outputId": "b2c332e7-9e6d-464a-cb24-5ce3a7624350"
      },
      "source": [
        "plt.pie(df_upsampled['SepsisLabel'].value_counts(),labels=['1','0'],autopct='%1.1f%%',shadow=True)\r\n",
        "plt.show()"
      ],
      "execution_count": null,
      "outputs": [
        {
          "output_type": "display_data",
          "data": {
            "image/png": "[encoded data removed]",
            "text/plain": [
              "<Figure size 432x288 with 1 Axes>"
            ]
          },
          "metadata": {
            "tags": []
          }
        }
      ]
    },
    {
      "cell_type": "code",
      "metadata": {
        "id": "r2F0ktWMBgVM"
      },
      "source": [
        "x=df_upsampled[df_upsampled.columns[0:40]].values\r\n",
        "y=df_upsampled[df_upsampled.columns[40:]].values"
      ],
      "execution_count": null,
      "outputs": []
    },
    {
      "cell_type": "code",
      "metadata": {
        "colab": {
          "base_uri": "https://localhost:8080/"
        },
        "id": "YZ6O_GhyBgYE",
        "outputId": "70b2dc54-8c48-4ab9-f3dd-4d440f389157"
      },
      "source": [
        "print(\"Train:\",x.shape)\r\n",
        "print(\"Total:\",df_upsampled.shape)\r\n",
        "print(\"Test:\",y.shape)"
      ],
      "execution_count": null,
      "outputs": [
        {
          "output_type": "stream",
          "text": [
            "Train: (75890, 40)\n",
            "Total: (75890, 41)\n",
            "Test: (75890, 1)\n"
          ],
          "name": "stdout"
        }
      ]
    },
    {
      "cell_type": "code",
      "metadata": {
        "colab": {
          "base_uri": "https://localhost:8080/"
        },
        "id": "OQEo0yoiBkhi",
        "outputId": "1af3e150-1825-4ab1-8b4d-32c57a2ffa10"
      },
      "source": [
        "label_model=LabelEncoder()\r\n",
        "y=label_model.fit_transform(y)"
      ],
      "execution_count": null,
      "outputs": [
        {
          "output_type": "stream",
          "text": [
            "/usr/local/lib/python3.6/dist-packages/sklearn/preprocessing/_label.py:251: DataConversionWarning: A column-vector y was passed when a 1d array was expected. Please change the shape of y to (n_samples, ), for example using ravel().\n",
            "  y = column_or_1d(y, warn=True)\n"
          ],
          "name": "stderr"
        }
      ]
    },
    {
      "cell_type": "markdown",
      "metadata": {
        "id": "cK8ztrLHUBxw"
      },
      "source": [
        "**Splitting the dataset for training and testing**"
      ]
    },
    {
      "cell_type": "code",
      "metadata": {
        "id": "xoOvMnYWBkkQ"
      },
      "source": [
        "x_train,x_test,y_train,y_test=train_test_split(x,y,test_size=0.20,random_state=0)"
      ],
      "execution_count": null,
      "outputs": []
    },
    {
      "cell_type": "markdown",
      "metadata": {
        "id": "0PAu8fY8TfW5"
      },
      "source": [
        "**MLPClassifier - Defining the model**"
      ]
    },
    {
      "cell_type": "code",
      "metadata": {
        "id": "h4WoMgPSB6Jh"
      },
      "source": [
        "model=MLPClassifier(\r\n",
        "activation='tanh',\r\n",
        "solver='lbfgs',\r\n",
        "early_stopping=False,\r\n",
        "hidden_layer_sizes=(40,10,10,10,10,2),\r\n",
        "random_state=1,\r\n",
        "batch_size='auto',\r\n",
        "max_iter=5000,\r\n",
        "learning_rate_init=1e-5,\r\n",
        "tol=1e-4)"
      ],
      "execution_count": null,
      "outputs": []
    },
    {
      "cell_type": "markdown",
      "metadata": {
        "id": "-ymdfHY7T5w-"
      },
      "source": [
        "**Training the model with training data**"
      ]
    },
    {
      "cell_type": "code",
      "metadata": {
        "colab": {
          "base_uri": "https://localhost:8080/"
        },
        "id": "O4xdNEfGB6R7",
        "outputId": "9a5c4657-dd63-4e08-fd60-15b220f8274d"
      },
      "source": [
        "model.fit(x_train,y_train)"
      ],
      "execution_count": null,
      "outputs": [
        {
          "output_type": "stream",
          "text": [
            "/usr/local/lib/python3.6/dist-packages/sklearn/neural_network/_multilayer_perceptron.py:470: ConvergenceWarning: lbfgs failed to converge (status=1):\n",
            "STOP: TOTAL NO. of ITERATIONS REACHED LIMIT.\n",
            "\n",
            "Increase the number of iterations (max_iter) or scale the data as shown in:\n",
            "    https://scikit-learn.org/stable/modules/preprocessing.html\n",
            "  self.n_iter_ = _check_optimize_result(\"lbfgs\", opt_res, self.max_iter)\n"
          ],
          "name": "stderr"
        },
        {
          "output_type": "execute_result",
          "data": {
            "text/plain": [
              "MLPClassifier(activation='tanh', alpha=0.0001, batch_size='auto', beta_1=0.9,\n",
              "              beta_2=0.999, early_stopping=False, epsilon=1e-08,\n",
              "              hidden_layer_sizes=(40, 10, 10, 10, 10, 2),\n",
              "              learning_rate='constant', learning_rate_init=1e-05, max_fun=15000,\n",
              "              max_iter=5000, momentum=0.9, n_iter_no_change=10,\n",
              "              nesterovs_momentum=True, power_t=0.5, random_state=1,\n",
              "              shuffle=True, solver='lbfgs', tol=0.0001, validation_fraction=0.1,\n",
              "              verbose=False, warm_start=False)"
            ]
          },
          "metadata": {
            "tags": []
          },
          "execution_count": 29
        }
      ]
    },
    {
      "cell_type": "markdown",
      "metadata": {
        "id": "NE7BqGnPTnw1"
      },
      "source": [
        "**Predicting the test value to find the accuracy**"
      ]
    },
    {
      "cell_type": "code",
      "metadata": {
        "id": "ovwWJiEpCBrT"
      },
      "source": [
        "pred=model.predict(x_test)"
      ],
      "execution_count": null,
      "outputs": []
    },
    {
      "cell_type": "markdown",
      "metadata": {
        "id": "7GTfHMJsTKis"
      },
      "source": [
        "**Accuracy of model**"
      ]
    },
    {
      "cell_type": "code",
      "metadata": {
        "colab": {
          "base_uri": "https://localhost:8080/"
        },
        "id": "mAH4Gf08SMgQ",
        "outputId": "bedfe985-6893-4a4d-9e13-54f980ae861c"
      },
      "source": [
        "idx=0\r\n",
        "cor=0\r\n",
        "incor=0\r\n",
        "for i in x_test:\r\n",
        "  if(pred[idx]==y_test[idx]):\r\n",
        "    cor+=1\r\n",
        "  else:\r\n",
        "    incor+=1\r\n",
        "  idx+=1\r\n",
        "print(\"Accuarcy of model:\",((cor)/(cor+incor))*100)"
      ],
      "execution_count": null,
      "outputs": [
        {
          "output_type": "stream",
          "text": [
            "Accuarcy of model: 93.22703913559099\n"
          ],
          "name": "stdout"
        }
      ]
    },
    {
      "cell_type": "markdown",
      "metadata": {
        "id": "V6ovU3aoTCRW"
      },
      "source": [
        "**Confusion Matrix**"
      ]
    },
    {
      "cell_type": "code",
      "metadata": {
        "colab": {
          "base_uri": "https://localhost:8080/"
        },
        "id": "LgOaOI-sRgx_",
        "outputId": "6c7bd812-d555-4c22-b6f5-e4bebb7d2eb6"
      },
      "source": [
        "from sklearn.metrics import confusion_matrix\r\n",
        "mat=confusion_matrix(y_test,pred)\r\n",
        "print(mat)"
      ],
      "execution_count": null,
      "outputs": [
        {
          "output_type": "stream",
          "text": [
            "[[6702  855]\n",
            " [ 173 7448]]\n"
          ],
          "name": "stdout"
        }
      ]
    }
  ]
}